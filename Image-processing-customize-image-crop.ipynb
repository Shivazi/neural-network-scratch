{
 "cells": [
  {
   "cell_type": "code",
   "execution_count": null,
   "metadata": {},
   "outputs": [],
   "source": [
    "import numpy as np\n",
    "\n",
    "final_temp=[]\n",
    "for i in range(50,150):\n",
    "temp=[]\n",
    "for j in range(50,200):\n",
    "temp.append(list(image[i][j]))\n",
    "final_temp.append(temp)\n",
    "\n",
    "cimage=np.asarray(final_temp)\n",
    "print(cimage)\n",
    "print(cimage.shape)\n",
    "plt.imshow(cimage)"
   ]
  }
 ],
 "metadata": {
  "kernelspec": {
   "display_name": "Python 3",
   "language": "python",
   "name": "python3"
  },
  "language_info": {
   "codemirror_mode": {
    "name": "ipython",
    "version": 3
   },
   "file_extension": ".py",
   "mimetype": "text/x-python",
   "name": "python",
   "nbconvert_exporter": "python",
   "pygments_lexer": "ipython3",
   "version": "3.6.8"
  }
 },
 "nbformat": 4,
 "nbformat_minor": 2
}
